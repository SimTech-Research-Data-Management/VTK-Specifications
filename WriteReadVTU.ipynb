{
 "cells": [
  {
   "attachments": {},
   "cell_type": "markdown",
   "metadata": {},
   "source": [
    "<a href=\"https://github.com/SimTech-Research-Data-Management/VTK-Specifications/blob/master/WriteReadVTU.ipynb\" target=\"_parent\\\"><img src=\"https://colab.research.google.com/assets/colab-badge.svg\" alt=\"Open In Colab\"/></a>"
   ]
  },
  {
   "cell_type": "code",
   "execution_count": 24,
   "metadata": {},
   "outputs": [],
   "source": [
    "try:\n",
    "    import sdRDM\n",
    "except ImportError:\n",
    "    !pip install git+https://github.com/JR-1991/software-driven-rdm.git@markdown-parser-refactor"
   ]
  },
  {
   "cell_type": "code",
   "execution_count": null,
   "metadata": {},
   "outputs": [],
   "source": [
    "from sdRDM import DataModel"
   ]
  },
  {
   "attachments": {},
   "cell_type": "markdown",
   "metadata": {},
   "source": [
    "### Building the model"
   ]
  },
  {
   "cell_type": "code",
   "execution_count": 18,
   "metadata": {},
   "outputs": [
    {
     "data": {
      "text/plain": [
       "\u001b[96mObjects\u001b[0m VTKFile, UnstructuredGrid, Piece, DataArray"
      ]
     },
     "execution_count": 18,
     "metadata": {},
     "output_type": "execute_result"
    }
   ],
   "source": [
    "# Read the Markdown model to generate the Python objects\n",
    "lib = DataModel.from_git(\"https://github.com/SimTech-Research-Data-Management/VTK-Specifications.git\")\n",
    "lib"
   ]
  },
  {
   "attachments": {},
   "cell_type": "markdown",
   "metadata": {},
   "source": [
    "### Creation of a VTK file"
   ]
  },
  {
   "cell_type": "code",
   "execution_count": 19,
   "metadata": {},
   "outputs": [],
   "source": [
    "# Initialize the VTK file\n",
    "dataset = lib.VTKFile(type=\"UnstructuredGrid\", version=\"0.1\", byte_order=\"LittleEndian\")"
   ]
  },
  {
   "cell_type": "code",
   "execution_count": 20,
   "metadata": {},
   "outputs": [],
   "source": [
    "# Build a piece of an unstructured grid\n",
    "piece = lib.Piece(number_of_points=1, number_of_cells=1)\n",
    "\n",
    "# Create a point and add point data\n",
    "piece.add_to_point_data(type=\"Int64\", name=\"point_index\", format=\"ascii\")\n",
    "piece.add_to_points(type=\"Float64\", name=\"Points\", format=\"ascii\")\n",
    "\n",
    "# Create a cell and add cell data\n",
    "piece.add_to_cells(type=\"Int64\", name=\"connectivity\", format=\"ascii\")\n",
    "piece.add_to_cell_data(type=\"Int64\", name=\"point_index\", format=\"ascii\")\n",
    "\n",
    "# Add it to a mesh and finally the VTK fileƒ\n",
    "grid = lib.UnstructuredGrid(piece=piece)\n",
    "dataset.unstructured_grid = grid"
   ]
  },
  {
   "cell_type": "code",
   "execution_count": 21,
   "metadata": {},
   "outputs": [],
   "source": [
    "with open(\"test_sdrdm.xml\", \"w\") as f:\n",
    "    # Serialize the VTK file to XML\n",
    "    f.write(dataset.xml())\n",
    "    \n",
    "with open(\"test_sdrdm.yaml\", \"w\") as f:\n",
    "    # Or serialize the VTK file to YAML\n",
    "    f.write(dataset.yaml())"
   ]
  },
  {
   "attachments": {},
   "cell_type": "markdown",
   "metadata": {},
   "source": [
    "### Reading VTK files"
   ]
  },
  {
   "cell_type": "code",
   "execution_count": null,
   "metadata": {},
   "outputs": [],
   "source": [
    "import os\n",
    "\n",
    "# Check if the test file exists\n",
    "if not os.path.exists(\"test_mesh.vtu\"):\n",
    "    !wget https://raw.githubusercontent.com/SimTech-Research-Data-Management/VTK-Specifications/master/test_mesh.vtu"
   ]
  },
  {
   "cell_type": "code",
   "execution_count": 22,
   "metadata": {},
   "outputs": [
    {
     "name": "stdout",
     "output_type": "stream",
     "text": [
      "type: UnstructuredGrid\n",
      "version: '0.1'\n",
      "byte_order: LittleEndian\n",
      "unstructured_grid:\n",
      "  piece:\n",
      "    points:\n",
      "      - type: Float64\n",
      "        format: ascii\n",
      "    point_data:\n",
      "      - type: Int64\n",
      "        format: ascii\n",
      "      - type: Float64\n",
      "        format: ascii\n",
      "    cells:\n",
      "      - type: Int64\n",
      "        format: ascii\n",
      "      - type: Int64\n",
      "        format: ascii\n",
      "      - type: Int64\n",
      "        format: ascii\n",
      "    cell_data:\n",
      "      - type: Int64\n",
      "        format: ascii\n",
      "      - type: Float64\n",
      "        format: ascii\n",
      "__source__:\n",
      "  root: VTKFile\n",
      "  repo: https://github.com/SimTech-Research-Data-Management/VTK-Specifications.git\n",
      "  commit: 0d029014d55366ea8b1d75b7a1a5beecec4f4a2b\n",
      "  url: https://github.com/SimTech-Research-Data-Management/VTK-Specifications/tree/0d029014d55366ea8b1d75b7a1a5beecec4f4a2b\n",
      "\n"
     ]
    }
   ],
   "source": [
    "# Parse an original VTK file to demonstrate the \n",
    "# roundtrip capability\n",
    "dataset = lib.VTKFile.from_xml(open(\"test_mesh.vtu\"))\n",
    "\n",
    "print(dataset.yaml(warn=False))"
   ]
  }
 ],
 "metadata": {
  "kernelspec": {
   "display_name": "sdrdm",
   "language": "python",
   "name": "sdrdm"
  },
  "language_info": {
   "codemirror_mode": {
    "name": "ipython",
    "version": 3
   },
   "file_extension": ".py",
   "mimetype": "text/x-python",
   "name": "python",
   "nbconvert_exporter": "python",
   "pygments_lexer": "ipython3",
   "version": "3.10.9"
  },
  "orig_nbformat": 4
 },
 "nbformat": 4,
 "nbformat_minor": 2
}
